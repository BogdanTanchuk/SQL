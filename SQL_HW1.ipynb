{
 "cells": [
  {
   "cell_type": "markdown",
   "id": "b81f229a-2465-43fc-b711-bbe1bb0c3903",
   "metadata": {},
   "source": [
    "## **SQL Skript**"
   ]
  },
  {
   "cell_type": "markdown",
   "id": "31ef8527-b20a-4840-8842-fa27fd90f5e9",
   "metadata": {},
   "source": [
    "create table transactions as (select transaction_id, 0 as new_product_id, customer_id, transaction_date, online_order, order_status from trans);\n",
    "\n",
    "create table brands (brand_id serial primary key, brand varchar(30));\n",
    "\n",
    "insert into brands (brand) select distinct brand from trans;\n",
    "\n",
    "create table product_lines (product_line_id serial primary key, product_line varchar(30));\n",
    "\n",
    "insert into product_lines (product_line) select distinct product_line from trans;\n",
    "\n",
    "create table product_classes (product_class_id serial primary key, product_class varchar(30));\n",
    "insert into product_classes (product_class) select distinct product_class from trans;\n",
    "\n",
    "create table product_sizes (product_size_id serial primary key, product_size varchar(30));\n",
    "insert into product_sizes (product_size) select distinct product_size from trans;\n",
    "\n",
    "update cust set gender='Female' where gender='F' or gender='Femal'\n",
    "update cust set gender='Male' where gender='M'\n",
    "\n",
    "create table genders (gender_id serial primary key, gender varchar(30));\n",
    "insert into genders (gender) select distinct gender from cust;\n",
    "\n",
    "create table industries (job_industry_category_id serial primary key, job_industry_category varchar(30));\n",
    "insert into industries (job_industry_category) select distinct job_industry_category from cust;\n",
    "\n",
    "create table wealth_segments (wealth_segment_id serial primary key, wealth_segment varchar(30));\n",
    "insert into wealth_segments (wealth_segment) select distinct wealth_segment from cust;\n",
    "\n",
    "update cust set state='NSW' where state='New South Wales'\n",
    "update cust set state='VIC' where state='Victoria'\n",
    "\n",
    "create table countries (country_id serial primary key, country varchar(30));\n",
    "insert into countries (country) select distinct country from cust;\n",
    "\n",
    "create table customers as (select customer_id, first_name, last_name, gender_id, \"DOB\" as dob, job_title, job_industry_category_id, wealth_segment_id, deceased_indicator, owns_car, address, postcode, state, country_id, property_valuation from cust as c, genders g, industries i, wealth_segments w, countries c1 where c.gender=g.gender and c.job_industry_category=i.job_industry_category and c.wealth_segment=w.wealth_segment and c.country=c1.country);\n",
    "ALTER TABLE customers ALTER COLUMN customer_id, SET NOT NULL;\n",
    "ALTER TABLE customers ALTER COLUMN gender_id SET NOT NULL;\n",
    "\n",
    "create table products(\n",
    "new_product_id serial primary key,\n",
    "product_id int4,\n",
    "brand_id int4 not null,\n",
    "product_line_id int4 not null,\n",
    "product_class_id int4 not null,\n",
    "product_size_id int4 not null,\n",
    "list_price numeric(8,2),\n",
    "standard_cost numeric(8,2),\n",
    "CONSTRAINT fk_brand FOREIGN KEY (brand_id) references brands(brand_id),\n",
    "CONSTRAINT fk_product_line FOREIGN KEY (product_line_id) references product_lines(product_line_id),\n",
    "CONSTRAINT fk_product_class FOREIGN KEY (product_class_id) references product_classes(product_class_id),\n",
    "CONSTRAINT fk_product_size FOREIGN KEY (product_size_id) references product_sizes(product_size_id))\n",
    "\n",
    "update trans set standard_cost='0,00' where standard_cost=''\n",
    "\n",
    "\n",
    "insert into products (product_id, brand_id, product_line_id, product_class_id, product_size_id, list_price, standard_cost) select product_id, brand_id, product_line_id, product_class_id, product_size_id, replace(t.list_price, ',', '.')::numeric(8,2) as list_price, replace(t.standard_cost, ',', '.')::numeric(8,2) as standard_cost from trans t, brands b, product_lines pl, product_classes pc, product_sizes ps where t.brand=b.brand and t.product_line=pl.product_line and t.product_class=pc.product_class and t.product_size=ps.product_size group by product_id, brand_id, product_line_id, product_class_id, product_size_id, list_price, standard_cost;\n",
    "\n",
    "create table order_statuses (order_status_id serial primary key, order_status varchar(30));\n",
    "insert into order_statuses (order_status) select distinct order_status from trans;\n",
    "\n",
    "create unique index on customers (customer_id);\n",
    "\n",
    "CREATE TABLE transactions (\n",
    "\ttransaction_id int4 not null,\n",
    "\tnew_product_id int4 not null,\n",
    "\tcustomer_id int4 not null,\n",
    "\ttransaction_date date,\n",
    "\tonline_order bool,\n",
    "\torder_status_id int4  not null,\n",
    "CONSTRAINT fk_new_product_id FOREIGN KEY (new_product_id) references products(new_product_id),\n",
    "CONSTRAINT fk_customer_id FOREIGN KEY (customer_id) references customers(customer_id),\n",
    "CONSTRAINT fk_order_status_id FOREIGN KEY (order_status_id) references order_statuses(order_status_id));\n",
    "with aa as (select transaction_id, new_product_id, t.customer_id, to_date(transaction_date, 'dd.mm.yyyy'), online_order, order_status_id from trans t, products p, customers c, order_statuses os, brands b, product_lines pl, product_classes pc, product_sizes ps where t.product_id=p.product_id and t.customer_id=c.customer_id and t.order_status=os.order_status and p.brand_id=b.brand_id and p.product_line_id=pl.product_line_id and p.product_class_id=pc.product_class_id and p.product_size_id=ps.product_size_id and t.brand=b.brand and t.product_line=pl.product_line and t.product_class=pc.product_class and t.product_size=ps.product_size and replace(t.list_price, ',', '.')::numeric(8,2)= p.list_price group by  transaction_id, new_product_id, t.customer_id, transaction_date, online_order, order_status_id)\n",
    "insert into transactions select * from aa;\n",
    "\n",
    "create table postcodes (\n",
    "postcode int4 primary key not null,\n",
    "state varchar(10) not null,\n",
    "country_id int4 not null,\n",
    "CONSTRAINT fk_country_id FOREIGN KEY (country_id) references countries(country_id));\n",
    "insert into postcodes (select postcode, state, 1 from customers group by postcode, state);\n",
    "\n",
    "alter table customers drop column state;\n",
    "alter table customers drop column country_id;"
   ]
  },
  {
   "cell_type": "markdown",
   "id": "43e2fdbf-a894-4946-abc0-03f005d620e5",
   "metadata": {},
   "source": [
    "## **Нормализация**"
   ]
  },
  {
   "cell_type": "markdown",
   "id": "af1673cb-cda2-4406-88a1-eab8e00bcd8d",
   "metadata": {},
   "source": [
    "Таблицы transaction и customer, приведенные в формате MS Excel, находятся во второй нормальной форме, так как атрибуты атомарны, отсутствуют дубликаты, а также каждый столбец, который не является ключом, зависит от первичного ключа.\n",
    "\n",
    "Для того, чтобы привести базу данных к третьей нормальной форме необходимо, чтобы не было столбцов с неключевыми значениями, которые зависят от других неключевых значений.\n",
    "Для этого необходимо произвести декомпозицию и избавиться от транзитивности имеющихся таблиц. Полученная БД 3-НФ представлена на схеме.\n",
    "В целях экономии знимаемого места таблицы были разбиты на дополнительные справочники"
   ]
  },
  {
   "cell_type": "markdown",
   "id": "b59e7676-0c1c-4352-97ec-4ba481fc9bb3",
   "metadata": {},
   "source": [
    "![picture_of_diag](1p.png)"
   ]
  },
  {
   "cell_type": "markdown",
   "id": "273be165-39c1-497d-a87b-b43fb9c8ed41",
   "metadata": {},
   "source": [
    "Эта же архитектура была реализована в DBeaver. Некоторые связи и загрузка исходных файлов (cust, trans) были реализованы без написания скриптов.\n",
    "\n",
    "Исходные данные импортированы в полном объеме"
   ]
  },
  {
   "cell_type": "markdown",
   "id": "3797d310-3a32-48a5-bdc4-191d673e760b",
   "metadata": {},
   "source": [
    "![picture_of_diag](2p.png)"
   ]
  },
  {
   "cell_type": "markdown",
   "id": "78ca86ed-042c-4267-9a38-06c899461670",
   "metadata": {},
   "source": [
    "## **Table trans**"
   ]
  },
  {
   "cell_type": "markdown",
   "id": "0510393e-b72e-4574-80e8-6b9c1933c154",
   "metadata": {},
   "source": [
    "![picture_of_diag](p.png)"
   ]
  },
  {
   "cell_type": "markdown",
   "id": "4d851f50-c653-4bbe-ab8d-bc1df93ee222",
   "metadata": {},
   "source": [
    "## **Table cust**"
   ]
  },
  {
   "cell_type": "markdown",
   "id": "a5a72fef-f98c-4231-942e-7731b49c8b07",
   "metadata": {},
   "source": [
    "![picture_of_diag](pp.jpg)"
   ]
  },
  {
   "cell_type": "code",
   "execution_count": null,
   "id": "cbfd8e1b-8842-452f-8369-c17b2a244e76",
   "metadata": {},
   "outputs": [],
   "source": []
  }
 ],
 "metadata": {
  "kernelspec": {
   "display_name": "Python 3 (ipykernel)",
   "language": "python",
   "name": "python3"
  },
  "language_info": {
   "codemirror_mode": {
    "name": "ipython",
    "version": 3
   },
   "file_extension": ".py",
   "mimetype": "text/x-python",
   "name": "python",
   "nbconvert_exporter": "python",
   "pygments_lexer": "ipython3",
   "version": "3.11.4"
  }
 },
 "nbformat": 4,
 "nbformat_minor": 5
}
