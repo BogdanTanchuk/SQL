{
 "cells": [
  {
   "cell_type": "markdown",
   "id": "2b1dc22f-d845-433f-87c9-d397a89e9fea",
   "metadata": {},
   "source": [
    "Данные были загружены в таблицы в соответствии с приведенными в заданиями типами данных. Для корректного написания запросов в таблицах были добавлены новые столбцы (trans_date, cust_date), которые дублируют исходные данные, но приводятся в формате date, а не varchar"
   ]
  },
  {
   "cell_type": "markdown",
   "id": "646750f6-79b2-4c8f-883d-6543915b21ad",
   "metadata": {},
   "source": [
    "### **Вывести все уникальные бренды, у которых стандартная стоимость выше 1500 долларов**"
   ]
  },
  {
   "cell_type": "markdown",
   "id": "4d9b99aa-ced0-4d97-bf1a-2ace381f7df6",
   "metadata": {},
   "source": [
    "![picture1](https://drive.google.com/file/d/1g_bTXvtpF76V1PulhguOqihB0vb6imuN/view?usp=sharing)"
   ]
  },
  {
   "cell_type": "markdown",
   "id": "a293b39b-a141-46e6-a6e0-3925a467c84e",
   "metadata": {},
   "source": [
    "### **Вывести все подтвержденные транзакции за период '2017-04-01' по '2017-04-09' включительно**"
   ]
  },
  {
   "cell_type": "markdown",
   "id": "f1be4f11-6e35-49db-838c-1cc4921d3f20",
   "metadata": {},
   "source": [
    "![picture2](https://drive.google.com/file/d/1WkQgWt_S3w3MeYCFazUXooDl93-6s_6t/view?usp=sharing)"
   ]
  },
  {
   "cell_type": "markdown",
   "id": "6c9b6f85-7a3e-4d5a-b63c-ff0d9d9b6c07",
   "metadata": {},
   "source": [
    "### **Вывести все профессии у клиентов из сферы IT или Financial Services, которые начинаются с фразы 'Senior'**"
   ]
  },
  {
   "cell_type": "markdown",
   "id": "7435b675-655d-4ca9-a38a-117774a73fbd",
   "metadata": {},
   "source": [
    "![picture3](https://drive.google.com/file/d/1WkQgWt_S3w3MeYCFazUXooDl93-6s_6t/view?usp=sharing)"
   ]
  },
  {
   "cell_type": "markdown",
   "id": "d610ff79-ac25-426b-b53e-2e5e4605d08d",
   "metadata": {},
   "source": [
    "### **Вывести все бренды, которые закупают клиенты, работающие в сфере Financial Services**"
   ]
  },
  {
   "cell_type": "markdown",
   "id": "03546fb9-c0da-46e2-8c6f-8bc7b88909ca",
   "metadata": {},
   "source": [
    "![picture4](https://drive.google.com/file/d/1hupc9_YjBE9Y102MrKaRjW4B6sG1urw1/view?usp=sharing)"
   ]
  },
  {
   "cell_type": "markdown",
   "id": "0965305a-62af-4984-b591-cd187661451d",
   "metadata": {},
   "source": [
    "### **Вывести 10 клиентов, которые оформили онлайн-заказ продукции из брендов 'Giant Bicycles', 'Norco Bicycles', 'Trek Bicycles'**"
   ]
  },
  {
   "cell_type": "markdown",
   "id": "3eb1631c-e084-45ee-83cc-93bee1c6a5b5",
   "metadata": {},
   "source": [
    "![picture5](https://drive.google.com/file/d/1VrTRlzS07aFRsF_4eb4pPCjxqXsTifvB/view?usp=sharing)"
   ]
  },
  {
   "cell_type": "markdown",
   "id": "e4a78984-4084-4922-8ee9-4d1ee569451e",
   "metadata": {},
   "source": [
    "### **Вывести всех клиентов, у которых нет транзакций**"
   ]
  },
  {
   "cell_type": "markdown",
   "id": "e2a9ef98-3a11-45f2-a89d-d56911e99279",
   "metadata": {},
   "source": [
    "![picture6](https://drive.google.com/file/d/1N9K-7n0k4WNW_eiV5ty2ZeZHzo3uNyzp/view?usp=sharing)"
   ]
  },
  {
   "cell_type": "markdown",
   "id": "4f0ed73d-5b06-4900-bd87-8ecdddca6b78",
   "metadata": {},
   "source": [
    "### **Вывести всех клиентов из IT, у которых транзакции с максимальной стандартной стоимостью**"
   ]
  },
  {
   "cell_type": "markdown",
   "id": "e21e70f0-979e-403b-8003-29050286bc1a",
   "metadata": {},
   "source": [
    "![picture7](https://drive.google.com/file/d/17zWEzSrVkR3SZOFaxfEX5GLFtB6pQYzD/view?usp=sharing)"
   ]
  },
  {
   "cell_type": "markdown",
   "id": "bfde4beb-19d2-4356-b8a9-7c521f786a3c",
   "metadata": {},
   "source": [
    "### **Вывести всех клиентов из сферы IT и Health, у которых есть подтвержденные транзакции за период '2017-07-07' по '2017-07-17'**"
   ]
  },
  {
   "cell_type": "markdown",
   "id": "e254b53e-8081-434c-ab3d-2a03e3e2e9f8",
   "metadata": {},
   "source": [
    "![picture8](https://drive.google.com/file/d/15jV-N3xqL4TpUoRk9lE3lGu1b-TJq9qt/view?usp=sharing)"
   ]
  }
 ],
 "metadata": {
  "kernelspec": {
   "display_name": "Python 3 (ipykernel)",
   "language": "python",
   "name": "python3"
  },
  "language_info": {
   "codemirror_mode": {
    "name": "ipython",
    "version": 3
   },
   "file_extension": ".py",
   "mimetype": "text/x-python",
   "name": "python",
   "nbconvert_exporter": "python",
   "pygments_lexer": "ipython3",
   "version": "3.11.4"
  }
 },
 "nbformat": 4,
 "nbformat_minor": 5
}
