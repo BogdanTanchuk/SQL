{
 "cells": [
  {
   "cell_type": "markdown",
   "id": "e8cc4310-21c7-46e3-9006-c3d766c90ce0",
   "metadata": {},
   "source": [
    "#### ***1-Вывести распределение (количество) клиентов по сферам деятельности, отсортировав результат по убыванию количества***"
   ]
  },
  {
   "cell_type": "markdown",
   "id": "e2132ed9-c8df-4074-bc0e-8463b31145f6",
   "metadata": {},
   "source": [
    "select job_industry_category, count(customer_id) cnt from hw.customer group by job_industry_category order by cnt desc"
   ]
  },
  {
   "cell_type": "markdown",
   "id": "c73e02a2-9cb0-4f10-857a-d4a9a37bcf4f",
   "metadata": {},
   "source": [
    "https://drive.google.com/file/d/1E-gROll-4K-_0YvT5ZcffAuK1r4JutFw/view?usp=sharing"
   ]
  },
  {
   "cell_type": "markdown",
   "id": "c0066db7-818e-493c-a3b4-9bfe9901de79",
   "metadata": {},
   "source": [
    "#### ***2-Найти сумму транзакций за каждый месяц по сферам деятельности, отсортировав по месяцам и по сфере деятельности***gory"
   ]
  },
  {
   "cell_type": "markdown",
   "id": "c3fc471d-2208-4193-be56-b496d52d95ca",
   "metadata": {},
   "source": [
    "select date_trunc('month', transaction_date::timestamp) mth, job_industry_category, sum(list_price::float) sm\n",
    "\n",
    "from hw.transaction a left join hw.customer b on a.customer_id = b.customer_id \n",
    "\n",
    "where job_industry_category is not null group by mth, job_industry_category order by mth, job_industry_category"
   ]
  },
  {
   "cell_type": "markdown",
   "id": "5e0cbb72-a01a-4c0a-99dc-4bb00a734c3b",
   "metadata": {},
   "source": [
    "https://drive.google.com/file/d/1FVEm6F3KJqypOuCxffqfEdhAAi3vujeZ/view?usp=sharing"
   ]
  },
  {
   "cell_type": "markdown",
   "id": "b471179d-cb9c-4c37-b343-96e5741d0589",
   "metadata": {},
   "source": [
    "#### ***3-Вывести количество онлайн-заказов для всех брендов в рамках подтвержденных заказов клиентов из сферы IT***\r\n",
    "\n",
    "select brand, count(transaction_id) from hw.transaction a left join hw.customer b on a.customer_id = b.customer_id\n",
    "\r\n",
    "where online_order = true and order_status = 'Approved' and job_industry_category = 'IT' group by brand"
   ]
  },
  {
   "cell_type": "markdown",
   "id": "111b922a-c0ad-4703-99b3-c2d36798676d",
   "metadata": {},
   "source": [
    "https://drive.google.com/file/d/1QhGUX0AF-mxaVi7m0t6iPEiC125DjTEq/view?usp=sharing"
   ]
  },
  {
   "cell_type": "markdown",
   "id": "d735ea90-64cc-4c86-b689-62e71c17e79e",
   "metadata": {},
   "source": [
    "#### ***4-Найти по всем клиентам сумму всех транзакций (list_price), максимум, минимум и количество транзакций, отсортировав результат по убыванию суммы транзакций и количества клиентов. Выполните двумя способами: используя только group by и используя только оконные функции. Сравните результат.***\n",
    "select b.customer_id, sum(list_price) sm, max(list_price) mx, min(list_price) mn, count(list_price) cnt\n",
    "\n",
    "from hw.transaction a left join hw.customer b on a.customer_id = b.customer_id\n",
    "\n",
    "where b.customer_id is not null group by b.customer_id order by sm desc, cnt desc"
   ]
  },
  {
   "cell_type": "markdown",
   "id": "fa2b4aa4-2e72-4bc8-8808-a60edb68b852",
   "metadata": {},
   "source": [
    "https://drive.google.com/file/d/15RO9SG7_16IpgAoRqOl6Kq9qobUfjRC_/view?usp=sharing"
   ]
  },
  {
   "cell_type": "markdown",
   "id": "7252fdc0-0e29-4372-a874-4cdf0df7ed36",
   "metadata": {},
   "source": [
    "select distinct b.customer_id, \n",
    "sum(a.list_price) over (partition by b.customer_id) sm \r\n",
    "max(a.list_price) over (partition by b.customer_id) m ,\r\n",
    "min(a.list_price) over (partition by b.customer_id)  n,\r\n",
    "count(a.list_price) over (partition by b.customer_id) cnt\r\n",
    "from hw.transaction a left join hw.customer b on a.customer_id = b.custom r_id\r\n",
    "where b.customer_id is not null order by sm desc, cnt desc"
   ]
  },
  {
   "cell_type": "markdown",
   "id": "2c44d76d-db95-4b18-875d-8b350c11e93f",
   "metadata": {},
   "source": [
    "https://drive.google.com/file/d/1E-WNXfCilWCIhcNlvtmAY8C6Ont1iNM-/view?usp=sharing"
   ]
  },
  {
   "cell_type": "markdown",
   "id": "9a2b235e-456b-4ba6-8ae7-ef3e82a820e7",
   "metadata": {},
   "source": [
    "#### ***Результат одинаков, если добавить distinct, в ином случае результат оконных функций - более 19 000 строк***"
   ]
  },
  {
   "cell_type": "markdown",
   "id": "2bcab906-fa3d-4020-a808-b580810ba487",
   "metadata": {},
   "source": [
    "#### ***5-Найти имена и фамилии клиентов с минимальной/максимальной суммой транзакций за весь период (сумма транзакций не может быть null). Напишите отдельные запросы для минимальной и максимальной суммы.***\n",
    "\n",
    "select b.first_name, b.last_name  from hw.customer b join (select customer_id, sum(list_price) as total_sales from hw.transaction \n",
    "\n",
    "group by customer_id) t on b.customer_id = t.customer_id \n",
    "\n",
    "where t.total_sales = (select min(total_sales) from (select sum(list_price) as total_sales from hw.transaction group by customer_id) min_sales)"
   ]
  },
  {
   "cell_type": "markdown",
   "id": "0b9e0ad1-9d7c-465d-9bba-66173be554c5",
   "metadata": {},
   "source": [
    "https://drive.google.com/file/d/1rOKF1WkpW3ipb47SpW33pA6H49NzCvU5/view?usp=sharing"
   ]
  },
  {
   "cell_type": "markdown",
   "id": "92273f4e-c8d0-46f6-889e-39c9a2db15bb",
   "metadata": {},
   "source": [
    "select b.first_name, b.last_name  from hw.customer b join (select customer_id, sum(list_price) as total_sales from hw.transaction \r\n",
    "\n",
    "group by customer_id) t on b.customer_id = t.customer_i\n",
    "\n",
    " where\r\n",
    "t.total_sales = (select max(total_sales) from (select sum(list_price) as total_sales from hw.transaction group by customer_id) max_sales)"
   ]
  },
  {
   "cell_type": "markdown",
   "id": "f714f566-1716-4e0a-9d87-cbc917714e57",
   "metadata": {},
   "source": [
    "https://drive.google.com/file/d/1dx5fyLNMYllzaH_M4HhvSHMuh8Kz46wL/view?usp=sharing"
   ]
  },
  {
   "cell_type": "markdown",
   "id": "baf30319-76e5-4320-bac8-01447a8ae260",
   "metadata": {},
   "source": [
    "#### ***6-Вывести только самые первые транзакции клиентов. Решить с помощью оконных функций.***\r\n",
    "select customer_id, transaction_date, list_price\n",
    "\r\n",
    "from (select customer_id, transaction_date, list_price ,\n",
    "\n",
    " row_number() over (partition by customer_id order by transaction_date) as row_n m\r\n",
    "from hw.transaction) ranked_transactions where row_num = 1"
   ]
  },
  {
   "cell_type": "markdown",
   "id": "bc6a9862-2bff-4e2e-8266-eeb8d7649402",
   "metadata": {},
   "source": [
    "https://drive.google.com/file/d/1i9vriVcGmA-PKVL1mMzQbdeuGhCvczcq/view?usp=sharing\n",
    "\n",
    "#### ***если не джойнить таблицы, то в результате получится 3494 строки, в которой будет customer_id=5034, не существующий в таблице customer***"
   ]
  },
  {
   "cell_type": "markdown",
   "id": "08be4af3-d753-4e14-b9ea-3cd59e6543d2",
   "metadata": {},
   "source": [
    "#### ***7-Вывести имена, фамилии и профессии клиентов, между транзакциями которых был максимальный интервал (интервал вычисляется в днях)***\n",
    "\r\n",
    "with TransactionIntervals as (select customer_id, \r\n",
    "transaction_date::date - lag(transaction_date::date) over (partition by customer_id order by transaction_date::date) as interval,\r\n",
    "row_number() over (partition by customer_id order by transaction_date::date) as row_num\r\n",
    "from hw.transaction) select c.first_name, c.last_name, c.job_title\r\n",
    "from hw.customer c join (select customer_id from TransactionIntervals\r\n",
    "where row_num > 1 group by customer_id having max(interval) = (select max(interval) from TransactionIntervals\r\n",
    "where row_num > 1)) max_interval_customers ON c.customer_id = max_interval_customers.customer_id"
   ]
  },
  {
   "cell_type": "markdown",
   "id": "f0067707-41fc-4d72-8044-5dc51702f9c1",
   "metadata": {},
   "source": [
    "https://drive.google.com/file/d/1FHQg7BUmem1eu7ZG1mh9IE-CJ1Y4UWYF/view?usp=sharing"
   ]
  }
 ],
 "metadata": {
  "kernelspec": {
   "display_name": "Python 3 (ipykernel)",
   "language": "python",
   "name": "python3"
  },
  "language_info": {
   "codemirror_mode": {
    "name": "ipython",
    "version": 3
   },
   "file_extension": ".py",
   "mimetype": "text/x-python",
   "name": "python",
   "nbconvert_exporter": "python",
   "pygments_lexer": "ipython3",
   "version": "3.11.4"
  }
 },
 "nbformat": 4,
 "nbformat_minor": 5
}
